{
  "nbformat": 4,
  "nbformat_minor": 0,
  "metadata": {
    "colab": {
      "name": "function.ipynb",
      "provenance": [],
      "private_outputs": true,
      "authorship_tag": "ABX9TyPJ6m4K31Zc+djlSMQJAOTm",
      "include_colab_link": true
    },
    "kernelspec": {
      "name": "python3",
      "display_name": "Python 3"
    }
  },
  "cells": [
    {
      "cell_type": "markdown",
      "metadata": {
        "id": "view-in-github",
        "colab_type": "text"
      },
      "source": [
        "<a href=\"https://colab.research.google.com/github/curlshen/Machine-Learning-with-Python/blob/master/function.ipynb\" target=\"_parent\"><img src=\"https://colab.research.google.com/assets/colab-badge.svg\" alt=\"Open In Colab\"/></a>"
      ]
    },
    {
      "cell_type": "code",
      "metadata": {
        "id": "xPH1i8StEm37",
        "colab_type": "code",
        "colab": {}
      },
      "source": [
        "# 函數function\n",
        "def out():\n",
        "        print(\"Hello Python\")\n",
        "\n",
        "out()        "
      ],
      "execution_count": 0,
      "outputs": []
    },
    {
      "cell_type": "code",
      "metadata": {
        "id": "s32OUOgnFsPd",
        "colab_type": "code",
        "colab": {}
      },
      "source": [
        "#自訂函數\n",
        "def factorial(n):\n",
        "    result = 1\n",
        "    for i in range(1,n+1):\n",
        "        result *= i\n",
        "    return result\n",
        "\n",
        "print(factorial(5))            \n",
        "\n",
        "      "
      ],
      "execution_count": 0,
      "outputs": []
    },
    {
      "cell_type": "code",
      "metadata": {
        "id": "q9uPYKrHepN1",
        "colab_type": "code",
        "colab": {}
      },
      "source": [
        "def get_area(width, height=12):\n",
        "    return width * height\n",
        "\n",
        "print(get_area(6))\n",
        "print(get_area(6, 10))    "
      ],
      "execution_count": 0,
      "outputs": []
    },
    {
      "cell_type": "code",
      "metadata": {
        "id": "1qtHFvh-EZy2",
        "colab_type": "code",
        "colab": {}
      },
      "source": [
        "#自訂函數 recursive\n",
        "def fact(n):\n",
        "    if n == 1:\n",
        "        return 1\n",
        "    return (n*fact(n-1))\n",
        "\n",
        "print (fact(5))          "
      ],
      "execution_count": 0,
      "outputs": []
    },
    {
      "cell_type": "code",
      "metadata": {
        "id": "Y75K_uluGxcd",
        "colab_type": "code",
        "colab": {}
      },
      "source": [
        "#固定數目參數\n",
        "def limit_sum(a,b):\n",
        "    return(int(a)+int(b))\n",
        "\n",
        "print(limit_sum(2,3))    \n"
      ],
      "execution_count": 0,
      "outputs": []
    },
    {
      "cell_type": "code",
      "metadata": {
        "id": "B4sgMF-MH4wt",
        "colab_type": "code",
        "colab": {}
      },
      "source": [
        "#不定數目參數\n",
        "def arg_sum(*args):\n",
        "    total_sum = 0\n",
        "\n",
        "    for i in args:\n",
        "        total_sum += i\n",
        "    return total_sum\n",
        "\n",
        "print(arg_sum(2,3,4))\n",
        "print(arg_sum(2,3,4,5,6,7,8))    \n"
      ],
      "execution_count": 0,
      "outputs": []
    },
    {
      "cell_type": "code",
      "metadata": {
        "id": "3dtkAB_7yT1q",
        "colab_type": "code",
        "colab": {}
      },
      "source": [
        " # 區域變數外部不可以呼叫\n",
        "def add(n1,n2):\n",
        "    n3 = n1 + n2\n",
        "    return n3\n",
        "\n",
        "print(add(1,2))\n",
        "# print (n3)  # n3 是區域變數外部不可以呼叫"
      ],
      "execution_count": 0,
      "outputs": []
    },
    {
      "cell_type": "code",
      "metadata": {
        "id": "26oEvJMnDuWC",
        "colab_type": "code",
        "colab": {}
      },
      "source": [
        "# 若有相同名稱的全域或區域變數 ，以區域變數優先\n",
        "def scope():\n",
        "       var1 = 1\n",
        "       print(var1, var2)\n",
        "\n",
        "var1 = 10\n",
        "var2 = 20\n",
        "scope()\n",
        "print(var1, var2)       "
      ],
      "execution_count": 0,
      "outputs": []
    },
    {
      "cell_type": "code",
      "metadata": {
        "id": "-0YVbqB4ho56",
        "colab_type": "code",
        "colab": {}
      },
      "source": [
        "print (round(4.5))"
      ],
      "execution_count": 0,
      "outputs": []
    },
    {
      "cell_type": "code",
      "metadata": {
        "id": "0V2XuX_JJoma",
        "colab_type": "code",
        "colab": {}
      },
      "source": [
        "# 區域變數透過關鍵字 global 與全域變數連結\n",
        "def scopeG():\n",
        "    global var1\n",
        "    var1 = 1\n",
        "    var2 = 2\n",
        "    print(var1, var2)\n",
        "\n",
        "var1 =10\n",
        "var2 = 20\n",
        "scopeG()\n",
        "# var1 = 10\n",
        "print(var1, var2)"
      ],
      "execution_count": 0,
      "outputs": []
    },
    {
      "cell_type": "code",
      "metadata": {
        "id": "XV7cs9giT6S_",
        "colab_type": "code",
        "colab": {}
      },
      "source": [
        "# 參數傳遞17\n",
        "def change(input_str):\n",
        "    print(\"收到 input_atr= \", input_str)\n",
        "    input_str = \"Overseas Chinese Universiy\"\n",
        "    print(\"修改 input_str= \", input_str)\n",
        "\n",
        "init_str = \"僑光科技大學\"\n",
        "\n",
        "print(\"原始 init_str= \", init_str)\n",
        "change(init_str)\n",
        "print(\"更新後 init_str= \", init_str)\n"
      ],
      "execution_count": 0,
      "outputs": []
    },
    {
      "cell_type": "code",
      "metadata": {
        "id": "He2OZYBSfcP-",
        "colab_type": "code",
        "colab": {}
      },
      "source": [
        "# 參數傳遞18\n",
        "def change(input_list):\n",
        "    print(\"收到 input_list= \", input_list)\n",
        "    input_list.append(\"卡卡西\")\n",
        "    print(\"修改 input_list= \", input_list)\n",
        "\n",
        "init_list = [\"鳴人\",\"佐助\"] \n",
        "\n",
        "print(\"原始 orig_list= \", init_list)\n",
        "change(init_list)\n",
        "print(\"更新後 orig_list= \", init_list)\n"
      ],
      "execution_count": 0,
      "outputs": []
    },
    {
      "cell_type": "code",
      "metadata": {
        "id": "1nAeDGVDfdwE",
        "colab_type": "code",
        "colab": {}
      },
      "source": [
        "# 參數傳遞19\n",
        "def change(input_list):\n",
        "    print(\"收到 input_list= \",input_list)\n",
        "    input_list = [\"小櫻\",\"雛田\"]\n",
        "    print(\"修改 input_list= \", input_list)\n",
        "\n",
        "init_list = [\"大蛇丸\",\"自來也\"]\n",
        "\n",
        "print(\"原始 orig_list= \", init_list)\n",
        "change(init_list)\n",
        "print(\"更新後 orig_list= \", init_list)"
      ],
      "execution_count": 0,
      "outputs": []
    },
    {
      "cell_type": "code",
      "metadata": {
        "id": "Gvdx3ckvluY1",
        "colab_type": "code",
        "colab": {}
      },
      "source": [
        "import random as ra\n",
        "\n",
        "#隨機產生 4 個介於 0~1 之間的亂數\n",
        "\n",
        "random_num = [ra.random() for i in range(4)]\n",
        "print(random_num)"
      ],
      "execution_count": 0,
      "outputs": []
    },
    {
      "cell_type": "code",
      "metadata": {
        "id": "vsSAPYOw0jgn",
        "colab_type": "code",
        "colab": {}
      },
      "source": [
        "import random as ra\n",
        "# 從串列中隨機挑選項目\n",
        "russian_roulette = ra.choice([\"索隆\",\"羅賓\",\"布魯克]\"])\n",
        "print(russian_roulette)\n",
        "\n",
        "# 取後不放回\n",
        "lottery = [x for x in range(1,49)]\n",
        "# ra.seed()\n",
        "win_num = ra.sample(lottery,6)\n",
        "print(win_num)\n",
        "\n",
        "# 取後放回\n",
        "# ra.seed()\n",
        "num = [ra.choice(lottery) for i in range(6)]\n",
        "print(num)"
      ],
      "execution_count": 0,
      "outputs": []
    },
    {
      "cell_type": "code",
      "metadata": {
        "id": "GBI3YsJVw9wa",
        "colab_type": "code",
        "colab": {}
      },
      "source": [
        "# compute execution time\n",
        "import time\n",
        "start = time.clock() #取開始時間\n",
        "print(start)\n",
        "\u000btime.sleep(2) #暫停2秒鐘\n",
        "for i in range(1000):\n",
        "    i += 1\n",
        "print(i)\n",
        "\u000bend = time.clock() #取結束時間\n",
        "print(end)\n",
        "print(\"程式執行時間 = \", end - start) #計算執行時間"
      ],
      "execution_count": 0,
      "outputs": []
    }
  ]
}