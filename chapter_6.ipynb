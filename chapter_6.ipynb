{
  "cells": [
    {
      "cell_type": "markdown",
      "metadata": {
        "id": "view-in-github",
        "colab_type": "text"
      },
      "source": [
        "<a href=\"https://colab.research.google.com/github/curlshen/Machine-Learning-with-Python/blob/master/chapter_6.ipynb\" target=\"_parent\"><img src=\"https://colab.research.google.com/assets/colab-badge.svg\" alt=\"Open In Colab\"/></a>"
      ]
    },
    {
      "cell_type": "markdown",
      "metadata": {
        "id": "7qK5HdgaYJaW"
      },
      "source": [
        "串列與數組可以互相轉換"
      ]
    },
    {
      "cell_type": "code",
      "execution_count": null,
      "metadata": {
        "id": "B3CPtA_wYJaY"
      },
      "outputs": [],
      "source": [
        "tup=(1,2,3,4,5,6)\n",
        "lst=list(tup)\n",
        "print(tup) #(1, 2, 3, 4, 5, 6)\n",
        "print(lst) #[1, 2, 3, 4, 5, 6]\n",
        "print(lst.pop(3)) # 4\n",
        "\n",
        "print(tup) # (1, 2, 3, 4, 5, 6)\n",
        "print(lst) # [1, 2, 3, 5, 6]"
      ]
    },
    {
      "cell_type": "code",
      "execution_count": null,
      "metadata": {
        "id": "z_ExVnnDYJaZ"
      },
      "outputs": [],
      "source": [
        "atk = [90, 50, 70]\n",
        "name = [\"魯夫\",\"娜美\",\"喬巴\"]"
      ]
    },
    {
      "cell_type": "code",
      "execution_count": null,
      "metadata": {
        "id": "QoYsLkKMYJaZ"
      },
      "outputs": [],
      "source": [
        "atk = [[\"魯夫\", 90],[\"娜美\", 50],[\"喬巴\", 70]]\n",
        "print(atk[2][1])   # 顯示甚麼？"
      ]
    },
    {
      "cell_type": "markdown",
      "metadata": {
        "id": "PoSju0mzYJaZ"
      },
      "source": [
        "字典的結構也與串列類似，其元素是以「鍵 - 值」對方式儲存，這樣就可使用「鍵」來取得「值」。\n",
        "\n",
        "字典是將元素置於一對大括號「{}」中，其語法為：\n",
        "字典名稱 = { 鍵1:值1, 鍵2:值2, … }"
      ]
    },
    {
      "cell_type": "code",
      "execution_count": null,
      "metadata": {
        "id": "ndefE5S5YJaa"
      },
      "outputs": [],
      "source": [
        "atk = [ [\"魯夫\", 90],[\"娜美\", 50],[\"喬巴\", 70]]\n",
        "atk = {\"魯夫\":90,\"娜美\":50,\"喬巴\":70}\n",
        "print(atk[\"娜美\"])"
      ]
    },
    {
      "cell_type": "code",
      "execution_count": null,
      "metadata": {
        "id": "bfimOWONYJaa"
      },
      "outputs": [],
      "source": [
        "atk = {\"魯夫\":90,\"娜美\":50,\"喬巴\":70}\n",
        "atk[\"喬巴\"] = 10\n",
        "print(atk)"
      ]
    },
    {
      "cell_type": "markdown",
      "metadata": {
        "id": "s38h8ABYYJab"
      },
      "source": [
        "第一種是刪除字典中特定元素"
      ]
    },
    {
      "cell_type": "code",
      "execution_count": null,
      "metadata": {
        "id": "RGjK4ub_YJab"
      },
      "outputs": [],
      "source": [
        "del atk[\"魯夫\"]\n",
        "print(atk)"
      ]
    },
    {
      "cell_type": "markdown",
      "metadata": {
        "id": "TnYrEXAYYJab"
      },
      "source": [
        "第二種是刪除字典中所有元素"
      ]
    },
    {
      "cell_type": "code",
      "execution_count": null,
      "metadata": {
        "id": "CsOPgb--YJab"
      },
      "outputs": [],
      "source": [
        "atk.clear()\n",
        "print(atk)"
      ]
    },
    {
      "cell_type": "markdown",
      "metadata": {
        "id": "ipnBermcYJac"
      },
      "source": [
        "第三種是刪除字典，字典刪除後該字典就不存在"
      ]
    },
    {
      "cell_type": "code",
      "execution_count": null,
      "metadata": {
        "id": "EvWHrqLmYJac"
      },
      "outputs": [],
      "source": [
        "del atk\n",
        "print(atk)"
      ]
    },
    {
      "cell_type": "code",
      "execution_count": null,
      "metadata": {
        "id": "aRU_D6MkYJac"
      },
      "outputs": [],
      "source": [
        "dict1={\"joe\":5,\"mary\":8}\n",
        "print(dict1)"
      ]
    },
    {
      "cell_type": "markdown",
      "metadata": {
        "id": "T7I3WkV1YJac"
      },
      "source": [
        "取得以「鍵‧值」組為元素的組合"
      ]
    },
    {
      "cell_type": "code",
      "execution_count": null,
      "metadata": {
        "id": "OBuQdLznYJac"
      },
      "outputs": [],
      "source": [
        "print(dict1.items())"
      ]
    },
    {
      "cell_type": "markdown",
      "metadata": {
        "id": "MG5ITeeRYJad"
      },
      "source": [
        "取得以「鍵」組為元素的組合"
      ]
    },
    {
      "cell_type": "code",
      "execution_count": null,
      "metadata": {
        "id": "ziGjUmzXYJad"
      },
      "outputs": [],
      "source": [
        "print(dict1.keys())"
      ]
    },
    {
      "cell_type": "markdown",
      "metadata": {
        "id": "KDg9SBY-YJad"
      },
      "source": [
        "取得以「值」組為元素的組合"
      ]
    },
    {
      "cell_type": "code",
      "execution_count": null,
      "metadata": {
        "id": "0f_az2XTYJad"
      },
      "outputs": [],
      "source": [
        "print(dict1.values())"
      ]
    },
    {
      "cell_type": "code",
      "execution_count": null,
      "metadata": {
        "id": "C65NquKJYJad"
      },
      "outputs": [],
      "source": [
        "one_name = {\"魯夫\",\"娜美\",\"喬巴\"}\n",
        "user = {\"索隆\",\"喬巴\"}"
      ]
    },
    {
      "cell_type": "code",
      "execution_count": null,
      "metadata": {
        "id": "crQ4mM2eYJad"
      },
      "outputs": [],
      "source": [
        "print(one_name)"
      ]
    },
    {
      "cell_type": "code",
      "execution_count": null,
      "metadata": {
        "id": "7yhu77T4YJae"
      },
      "outputs": [],
      "source": [
        "print(one_name & user) #交集"
      ]
    },
    {
      "cell_type": "code",
      "execution_count": null,
      "metadata": {
        "id": "N_dm81rKYJae"
      },
      "outputs": [],
      "source": [
        "print(one_name | user) #聯集"
      ]
    },
    {
      "cell_type": "code",
      "execution_count": null,
      "metadata": {
        "id": "uODwyH5yYJae"
      },
      "outputs": [],
      "source": [
        "print(one_name - user) #差集"
      ]
    },
    {
      "cell_type": "code",
      "execution_count": null,
      "metadata": {
        "id": "2FI4LBD7YJae"
      },
      "outputs": [],
      "source": [
        "print(one_name ^ user) #反交集"
      ]
    },
    {
      "cell_type": "code",
      "execution_count": null,
      "metadata": {
        "id": "-2_uRUvzYJae"
      },
      "outputs": [],
      "source": [
        "s = set(\"HelloPython\")\n",
        "print(s)"
      ]
    },
    {
      "cell_type": "code",
      "execution_count": null,
      "metadata": {
        "id": "txVWv7c9YJae"
      },
      "outputs": [],
      "source": [
        "s.add(\"Java\")\n",
        "print(s)"
      ]
    },
    {
      "cell_type": "code",
      "execution_count": null,
      "metadata": {
        "id": "RXW2Cdm8YJaf"
      },
      "outputs": [],
      "source": [
        "s.remove(\"Java\")\n",
        "print(s)"
      ]
    }
  ],
  "metadata": {
    "kernelspec": {
      "display_name": "Python 3",
      "language": "python",
      "name": "python3"
    },
    "language_info": {
      "codemirror_mode": {
        "name": "ipython",
        "version": 3
      },
      "file_extension": ".py",
      "mimetype": "text/x-python",
      "name": "python",
      "nbconvert_exporter": "python",
      "pygments_lexer": "ipython3",
      "version": "3.7.4"
    },
    "colab": {
      "provenance": [],
      "include_colab_link": true
    }
  },
  "nbformat": 4,
  "nbformat_minor": 0
}